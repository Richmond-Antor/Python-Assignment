{
  "cells": [
    {
      "cell_type": "markdown",
      "metadata": {},
      "source": [
        "# NumPy Essentials Practice Exercises Overview:\n",
        "Time to test the knowledge on NumPy. Lets start with simple task and move on to more challenging ones!<br>\n",
        "**Good Luck**<br>\n",
        "\n",
        "&#9758; *Please note, there are several ways to get the required output, so your code could be different then what is provided in this notebook. <br>As long as you are getting the tasks done, it is fine at this stage. *"
      ]
    },
    {
      "cell_type": "markdown",
      "metadata": {},
      "source": [
        "**1. What is the major difference between \"`Vector`\" and \"`Matrix`\"?**\n",
        "\n"
      ]
    },
    {
      "cell_type": "code",
      "execution_count": 1,
      "metadata": {},
      "outputs": [],
      "source": [
        "#Vector represented as one dimentional array\n",
        "# Just a single row or column of elements\n",
        "#structure : Line\n",
        "\n",
        "#matrix has 2 dimensions: rows and columns\n",
        "#grid with multiple rows and columns\n",
        "#structure: Grid"
      ]
    },
    {
      "cell_type": "markdown",
      "metadata": {},
      "source": [
        "**2. How to import `NumPy` library?** "
      ]
    },
    {
      "cell_type": "code",
      "execution_count": 2,
      "metadata": {},
      "outputs": [],
      "source": [
        "import numpy as np"
      ]
    },
    {
      "cell_type": "code",
      "execution_count": null,
      "metadata": {},
      "outputs": [],
      "source": []
    },
    {
      "cell_type": "markdown",
      "metadata": {},
      "source": [
        "**3. Convert the given Python list into NumPy array and check its data type**"
      ]
    },
    {
      "cell_type": "code",
      "execution_count": 3,
      "metadata": {},
      "outputs": [],
      "source": [
        "list_1 = [1,2,3,4,5]"
      ]
    },
    {
      "cell_type": "code",
      "execution_count": 4,
      "metadata": {
        "trusted": true
      },
      "outputs": [
        {
          "name": "stdout",
          "output_type": "stream",
          "text": [
            "(array([1, 2, 3, 4, 5]), 'numpy.ndarray')\n"
          ]
        }
      ],
      "source": [
        "# To avoid overwriting the output, please code here \n",
        "\n",
        "import numpy as np\n",
        "list_1=[1,2,3,4,5]\n",
        "arr1=np.array(list_1)\n",
        "print((arr1, f\"numpy.{type(arr1).__name__}\"))"
      ]
    },
    {
      "cell_type": "code",
      "execution_count": null,
      "metadata": {},
      "outputs": [],
      "source": []
    },
    {
      "cell_type": "markdown",
      "metadata": {},
      "source": [
        "**4. Generate `array [0,1,2,3,4,5]` using NumPy built-in function, `arange()`**"
      ]
    },
    {
      "cell_type": "code",
      "execution_count": 5,
      "metadata": {
        "trusted": true
      },
      "outputs": [
        {
          "name": "stdout",
          "output_type": "stream",
          "text": [
            "array([0, 1, 2, 3, 4, 5])\n"
          ]
        }
      ],
      "source": [
        "# To avoid overwriting the output, please code here \n",
        "import numpy as np\n",
        "array=np.arange(0,6)\n",
        "print(f\"array({array.tolist()})\")"
      ]
    },
    {
      "cell_type": "code",
      "execution_count": null,
      "metadata": {},
      "outputs": [],
      "source": []
    },
    {
      "cell_type": "markdown",
      "metadata": {},
      "source": [
        "**5. Generate an `array of \"5\" zeros` **"
      ]
    },
    {
      "cell_type": "code",
      "execution_count": 6,
      "metadata": {
        "trusted": true
      },
      "outputs": [
        {
          "name": "stdout",
          "output_type": "stream",
          "text": [
            "array([0., 0., 0., 0., 0.])\n"
          ]
        }
      ],
      "source": [
        "# To avoid overwriting the output, please code here \n",
        "import numpy as np\n",
        "array=np.zeros(5)\n",
        "print(f\"array({np.array2string(array,separator = ', ')})\")"
      ]
    },
    {
      "cell_type": "code",
      "execution_count": null,
      "metadata": {},
      "outputs": [],
      "source": []
    },
    {
      "cell_type": "markdown",
      "metadata": {},
      "source": [
        "**6. Generate the following `matrix`.**"
      ]
    },
    {
      "cell_type": "code",
      "execution_count": 7,
      "metadata": {
        "trusted": true
      },
      "outputs": [
        {
          "name": "stdout",
          "output_type": "stream",
          "text": [
            "array([[0., 0., 0., 0.],\n",
            "       [0., 0., 0., 0.],\n",
            "       [0., 0., 0., 0.]])\n"
          ]
        }
      ],
      "source": [
        "# To avoid overwriting the output, please code here \n",
        "import numpy as np\n",
        "array=np.zeros((3,4))\n",
        "print(f\"array({np.array2string(array,separator = ', ', prefix='array(')})\")"
      ]
    },
    {
      "cell_type": "code",
      "execution_count": null,
      "metadata": {},
      "outputs": [],
      "source": []
    },
    {
      "cell_type": "markdown",
      "metadata": {},
      "source": [
        "**7. Generate** `[1.,1.,1.,1.,1.]` **using NumPy built-in function?**"
      ]
    },
    {
      "cell_type": "code",
      "execution_count": 8,
      "metadata": {
        "trusted": true
      },
      "outputs": [
        {
          "name": "stdout",
          "output_type": "stream",
          "text": [
            "[1. 1. 1. 1. 1.]\n"
          ]
        }
      ],
      "source": [
        "# To avoid overwriting the output, please code here \n",
        "import numpy as np\n",
        "arr=np.ones(5)\n",
        "print(arr)"
      ]
    },
    {
      "cell_type": "code",
      "execution_count": null,
      "metadata": {},
      "outputs": [],
      "source": []
    },
    {
      "cell_type": "markdown",
      "metadata": {},
      "source": [
        "**8. Generate an array of \"5\" tens.**"
      ]
    },
    {
      "cell_type": "code",
      "execution_count": 9,
      "metadata": {
        "trusted": true
      },
      "outputs": [
        {
          "name": "stdout",
          "output_type": "stream",
          "text": [
            "array([10., 10., 10., 10., 10.])\n"
          ]
        }
      ],
      "source": [
        "# To avoid overwriting the output, please code here \n",
        "array=np.ones(5)*10\n",
        "print(f\"array({np.array2string(array, separator=', ')})\")"
      ]
    },
    {
      "cell_type": "code",
      "execution_count": null,
      "metadata": {},
      "outputs": [],
      "source": []
    },
    {
      "cell_type": "markdown",
      "metadata": {},
      "source": [
        "**9. Use `arange()` to generate an array of even numbers between 50 and 100.**<br>\n",
        "*50 and 100 are not included*"
      ]
    },
    {
      "cell_type": "code",
      "execution_count": 10,
      "metadata": {
        "trusted": true
      },
      "outputs": [
        {
          "name": "stdout",
          "output_type": "stream",
          "text": [
            "array([52,54,56,58,60,62,64,66,68,70,72,74,76,78,80,82,84,86,88,90,92,94,96,98])\n"
          ]
        }
      ],
      "source": [
        "# To avoid overwriting the output, please code here \n",
        "array=np.arange(52,100,2)\n",
        "print(f\"array({np.array2string(array, separator=',')})\")"
      ]
    },
    {
      "cell_type": "code",
      "execution_count": null,
      "metadata": {},
      "outputs": [],
      "source": []
    },
    {
      "cell_type": "markdown",
      "metadata": {},
      "source": [
        "**10. Generate an array of 10 linearly spaced points between 0 and 1.**<br>\n",
        "**Output step size as well?**"
      ]
    },
    {
      "cell_type": "code",
      "execution_count": 11,
      "metadata": {
        "trusted": true
      },
      "outputs": [
        {
          "name": "stdout",
          "output_type": "stream",
          "text": [
            "(array([0.        , 0.11111111, 0.22222222, 0.33333333, 0.44444444,\n",
            "       0.55555556, 0.66666667, 0.77777778, 0.88888889, 1.        ]), 0.1111111111111111)\n"
          ]
        }
      ],
      "source": [
        "# To avoid overwriting the output, please code here \n",
        "import numpy as np\n",
        "array=np.linspace(0,1,10)\n",
        "step = float(array[1] - array[0])\n",
        "print((array, step))\n"
      ]
    },
    {
      "cell_type": "code",
      "execution_count": null,
      "metadata": {
        "trusted": true
      },
      "outputs": [],
      "source": []
    },
    {
      "cell_type": "markdown",
      "metadata": {},
      "source": [
        "**11. Perform the following tasks:**\n",
        "* Generate a **`vector array of 25`** numbers using **`arange()`**\n",
        "* write a code to convert the vector array into **`2-D matrix using reshape`**\n",
        "* can we use **`shape`** instead of reshape as well?"
      ]
    },
    {
      "cell_type": "code",
      "execution_count": 12,
      "metadata": {
        "trusted": true
      },
      "outputs": [
        {
          "name": "stdout",
          "output_type": "stream",
          "text": [
            "array([0, 1, 2, 3, 4, 5, 6, 7, 8, 9, 10, 11, 12, 13, 14, 15, 16, 17, 18, 19, 20, 21, 22, 23, 24])\n"
          ]
        }
      ],
      "source": [
        "# Generating vector array\n",
        "array=np.arange(25)\n",
        "print(f\"array({array.tolist()})\")\n"
      ]
    },
    {
      "cell_type": "code",
      "execution_count": null,
      "metadata": {
        "scrolled": true
      },
      "outputs": [],
      "source": []
    },
    {
      "cell_type": "code",
      "execution_count": 13,
      "metadata": {
        "trusted": true
      },
      "outputs": [
        {
          "name": "stdout",
          "output_type": "stream",
          "text": [
            "array([[ 0,  1,  2,  3,  4],\n",
            "       [ 5,  6,  7,  8,  9],\n",
            "       [10, 11, 12, 13, 14],\n",
            "       [15, 16, 17, 18, 19],\n",
            "       [20, 21, 22, 23, 24]])\n"
          ]
        }
      ],
      "source": [
        "# reshape to convert into 2-d\n",
        "matrix = array.reshape(5, 5)\n",
        "\n",
        "print(f\"array({np.array2string(matrix, separator=', ',prefix='array(')})\")"
      ]
    },
    {
      "cell_type": "code",
      "execution_count": null,
      "metadata": {
        "scrolled": true
      },
      "outputs": [],
      "source": []
    },
    {
      "cell_type": "code",
      "execution_count": 14,
      "metadata": {
        "collapsed": true,
        "jupyter": {
          "outputs_hidden": true
        }
      },
      "outputs": [
        {
          "name": "stdout",
          "output_type": "stream",
          "text": [
            "array([[ 0,  1,  2,  3,  4],\n",
            "       [ 5,  6,  7,  8,  9],\n",
            "       [10, 11, 12, 13, 14],\n",
            "       [15, 16, 17, 18, 19],\n",
            "       [20, 21, 22, 23, 24]])\n"
          ]
        }
      ],
      "source": [
        "# Using shape\n",
        "import numpy as np\n",
        "\n",
        "array = np.arange(25)\n",
        "array.shape = (5, 5)\n",
        "\n",
        "print(f\"array({np.array2string(array, separator=', ', prefix='array(')})\")"
      ]
    },
    {
      "cell_type": "code",
      "execution_count": null,
      "metadata": {
        "scrolled": true
      },
      "outputs": [],
      "source": []
    },
    {
      "cell_type": "markdown",
      "metadata": {},
      "source": [
        "**12. Please generate the following matrix.**"
      ]
    },
    {
      "cell_type": "code",
      "execution_count": 15,
      "metadata": {
        "trusted": true
      },
      "outputs": [
        {
          "name": "stdout",
          "output_type": "stream",
          "text": [
            "array([[0.1, 0.2, 0.3, 0.4, 0.5],\n",
            "       [0.6, 0.7, 0.8, 0.9, 1. ],\n",
            "       [1.1, 1.2, 1.3, 1.4, 1.5],\n",
            "       [1.6, 1.7, 1.8, 1.9, 2. ],\n",
            "       [2.1, 2.2, 2.3, 2.4, 2.5]])\n"
          ]
        }
      ],
      "source": [
        "# To avoid overwriting the output, please code here \n",
        "array=np.arange(0.1,2.6,0.1).reshape(5,5)\n",
        "print(f\"array({np.array2string(array,separator=', ',prefix='array(')})\")\n"
      ]
    },
    {
      "cell_type": "code",
      "execution_count": null,
      "metadata": {},
      "outputs": [],
      "source": []
    },
    {
      "cell_type": "markdown",
      "metadata": {},
      "source": [
        "**13. Write a code to generate the output below, use \"`linspace()`\" and \"`print()`\"**"
      ]
    },
    {
      "cell_type": "code",
      "execution_count": 16,
      "metadata": {
        "trusted": true
      },
      "outputs": [
        {
          "name": "stdout",
          "output_type": "stream",
          "text": [
            "array([[ 0,  1,  2,  3,  4],\n",
            "       [ 5,  6,  7,  8,  9],\n",
            "       [10, 11, 12, 13, 14],\n",
            "       [15, 16, 17, 18, 19],\n",
            "       [20, 21, 22, 23, 24]])\n"
          ]
        }
      ],
      "source": [
        "# To avoid overwriting the output, please code here \n",
        "import numpy as np\n",
        "array=np.linspace(0,24,25, dtype=int).reshape(5,5)\n",
        "print(\"array(\" + np.array2string(array, separator=', ', prefix='array(') + \")\")"
      ]
    },
    {
      "cell_type": "code",
      "execution_count": null,
      "metadata": {},
      "outputs": [],
      "source": []
    },
    {
      "cell_type": "markdown",
      "metadata": {},
      "source": [
        "**14. What is the main difference between `linspace()` and `arange()`?**"
      ]
    },
    {
      "cell_type": "code",
      "execution_count": 17,
      "metadata": {
        "collapsed": true,
        "jupyter": {
          "outputs_hidden": true
        }
      },
      "outputs": [
        {
          "ename": "SyntaxError",
          "evalue": "invalid syntax (3091151778.py, line 1)",
          "output_type": "error",
          "traceback": [
            "  \u001b[36mCell\u001b[39m\u001b[36m \u001b[39m\u001b[32mIn[17]\u001b[39m\u001b[32m, line 1\u001b[39m\n\u001b[31m    \u001b[39m\u001b[31mlicense():\u001b[39m\n             ^\n\u001b[31mSyntaxError\u001b[39m\u001b[31m:\u001b[39m invalid syntax\n"
          ]
        }
      ],
      "source": [
        "license():\n",
        "    1. structure: np.linspace(start,stop,number)\n",
        "    2. Return the array containing the specified number of elements in a given range\n",
        "    \n",
        "arange():\n",
        "    1. structure: np.linspace(start,stop,step)\n",
        "    2. Return an array in  the given range increment by the step size.\n",
        "    "
      ]
    },
    {
      "cell_type": "markdown",
      "metadata": {},
      "source": [
        "**15. How to generate a single random integer number using NumPy built-in function?**"
      ]
    },
    {
      "cell_type": "code",
      "execution_count": null,
      "metadata": {
        "trusted": true
      },
      "outputs": [
        {
          "name": "stdout",
          "output_type": "stream",
          "text": [
            "7\n"
          ]
        }
      ],
      "source": [
        "# To avoid overwriting the output, please code here \n",
        "array=np.random.randint(0,10)\n",
        "print(array)"
      ]
    },
    {
      "cell_type": "code",
      "execution_count": null,
      "metadata": {},
      "outputs": [],
      "source": []
    },
    {
      "cell_type": "markdown",
      "metadata": {},
      "source": [
        "**16. Write a code to generate a 7x5 matrix of 35 random numbers? use rand here** <br>\n",
        "*Notice, there are no ( ) in the output matrix!*"
      ]
    },
    {
      "cell_type": "code",
      "execution_count": null,
      "metadata": {
        "trusted": true
      },
      "outputs": [
        {
          "name": "stdout",
          "output_type": "stream",
          "text": [
            "[[0.21548943 0.58816032 0.63876283 0.66648935 0.04976606]\n",
            " [0.71181558 0.6067373  0.8992807  0.38285009 0.10607015]\n",
            " [0.37013486 0.23285832 0.41503042 0.3069726  0.78320115]\n",
            " [0.38010936 0.46631179 0.15200047 0.6843953  0.33898227]\n",
            " [0.15364183 0.60816565 0.33150188 0.73498825 0.98586392]\n",
            " [0.99243239 0.30649908 0.72632847 0.42565028 0.14887424]\n",
            " [0.15436988 0.94506948 0.88429193 0.18067929 0.23575286]]\n"
          ]
        }
      ],
      "source": [
        "# To avoid overwriting the output, please code here \n",
        "import numpy as np\n",
        "\n",
        "array = np.random.rand(7, 5)\n",
        "print(array)"
      ]
    },
    {
      "cell_type": "code",
      "execution_count": null,
      "metadata": {},
      "outputs": [
        {
          "name": "stdout",
          "output_type": "stream",
          "text": [
            "[[ 0.99598801  0.07546767  0.17484793  0.25229956  0.4693597 ]\n",
            ", [ 0.5591561   0.5007227   0.93630239  0.48747691  0.78658124]\n",
            ", [ 0.98923838  0.04124599  0.71326198  0.51252888  0.36130539]\n",
            ", [ 0.11558779  0.52914213  0.31134907  0.8047612   0.25759207]\n",
            ", [ 0.87331331  0.77104413  0.960445    0.1732589   0.83339285]\n",
            ", [ 0.99839604  0.78268012  0.66487603  0.14509928  0.05670129]\n",
            ", [ 0.15932364  0.848172    0.51343887  0.06309231  0.29250649]]\n"
          ]
        }
      ],
      "source": []
    },
    {
      "cell_type": "markdown",
      "metadata": {},
      "source": [
        "**17. Generate the following matrix using NumPy's built-in method for identity matrix.**"
      ]
    },
    {
      "cell_type": "code",
      "execution_count": null,
      "metadata": {
        "trusted": true
      },
      "outputs": [
        {
          "name": "stdout",
          "output_type": "stream",
          "text": [
            "array([[5., 0., 0., 0., 0.],\n",
            "       [0., 5., 0., 0., 0.],\n",
            "       [0., 0., 5., 0., 0.],\n",
            "       [0., 0., 0., 5., 0.],\n",
            "       [0., 0., 0., 0., 5.]])\n"
          ]
        }
      ],
      "source": [
        "# To avoid overwriting the output, please code here \n",
        "matrix=np.identity(5)*5\n",
        "print(f\"array({np.array2string(matrix, separator=', ',prefix='array(')})\")\n"
      ]
    },
    {
      "cell_type": "code",
      "execution_count": null,
      "metadata": {},
      "outputs": [
        {
          "data": {
            "text/plain": [
              "array([[5., 0., 0., 0., 0.],\n",
              "       [0., 5., 0., 0., 0.],\n",
              "       [0., 0., 5., 0., 0.],\n",
              "       [0., 0., 0., 5., 0.],\n",
              "       [0., 0., 0., 0., 5.]])"
            ]
          },
          "execution_count": 30,
          "metadata": {},
          "output_type": "execute_result"
        }
      ],
      "source": []
    },
    {
      "cell_type": "markdown",
      "metadata": {
        "collapsed": true,
        "jupyter": {
          "outputs_hidden": true
        }
      },
      "source": [
        "### You must be feeling comfortable using NumPy now!\n",
        "# Great Job and Good Luck "
      ]
    }
  ],
  "metadata": {
    "kernelspec": {
      "display_name": "Python 3",
      "language": "python",
      "name": "python3"
    },
    "language_info": {
      "codemirror_mode": {
        "name": "ipython",
        "version": 3
      },
      "file_extension": ".py",
      "mimetype": "text/x-python",
      "name": "python",
      "nbconvert_exporter": "python",
      "pygments_lexer": "ipython3",
      "version": "3.12.1"
    }
  },
  "nbformat": 4,
  "nbformat_minor": 4
}
