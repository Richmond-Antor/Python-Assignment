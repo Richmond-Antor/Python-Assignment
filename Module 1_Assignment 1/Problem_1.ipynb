{
  "metadata": {
    "kernelspec": {
      "name": "python",
      "display_name": "Python (Pyodide)",
      "language": "python"
    },
    "language_info": {
      "codemirror_mode": {
        "name": "python",
        "version": 3
      },
      "file_extension": ".py",
      "mimetype": "text/x-python",
      "name": "python",
      "nbconvert_exporter": "python",
      "pygments_lexer": "ipython3",
      "version": "3.8"
    }
  },
  "nbformat_minor": 5,
  "nbformat": 4,
  "cells": [
    {
      "id": "7c37a632-a21b-480a-9777-a2d7c7e34728",
      "cell_type": "markdown",
      "source": "# Problem: 01\n\nWrite a Python program that takes a number as input and checks whether it is even or odd.\n\n\n",
      "metadata": {}
    },
    {
      "id": "5762323c-0e46-4b8a-b6f1-c1251ec2dcf4",
      "cell_type": "code",
      "source": "num=int(input(\"Enter a number:\"))\nif num%2==0:\n    print(num , \"is even\")\nelse:\n    print(num , \"is odd\")",
      "metadata": {
        "trusted": true
      },
      "outputs": [
        {
          "output_type": "stream",
          "name": "stdin",
          "text": "Enter a number: 6\n"
        },
        {
          "name": "stdout",
          "output_type": "stream",
          "text": "6 is even\n"
        }
      ],
      "execution_count": 1
    }
  ]
}