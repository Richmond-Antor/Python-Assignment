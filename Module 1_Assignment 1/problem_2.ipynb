{
  "metadata": {
    "kernelspec": {
      "name": "python",
      "display_name": "Python (Pyodide)",
      "language": "python"
    },
    "language_info": {
      "codemirror_mode": {
        "name": "python",
        "version": 3
      },
      "file_extension": ".py",
      "mimetype": "text/x-python",
      "name": "python",
      "nbconvert_exporter": "python",
      "pygments_lexer": "ipython3",
      "version": "3.8"
    }
  },
  "nbformat_minor": 5,
  "nbformat": 4,
  "cells": [
    {
      "id": "54410eb4-a2a8-470a-a666-569387684015",
      "cell_type": "markdown",
      "source": "# Problem: 02\n\nWrite a program that takes two numbers and an operator (+, -, *, /) and performs the calculation.",
      "metadata": {}
    },
    {
      "id": "12ec263b-ba58-47c0-acf8-f9e201b7cb0d",
      "cell_type": "code",
      "source": "num1,num2=map(int,input(\"Enter two space seperated numbers:\").split())\noperator=input(\"Enter any operator (+, -, *, /):\")\n\n\nif operator=='+':\n    result= num1 + num2\nelif operator == '-':\n    result = num1 - num2\nelif operator == '*':\n    result = num1 * num2\nelif operator == '/':\n    result = num1 / num2\nelse :\n    print(\"Invalid operator\")\n\n\nprint(\"the result is: \",result)    \n    \n",
      "metadata": {
        "trusted": true
      },
      "outputs": [
        {
          "output_type": "stream",
          "name": "stdin",
          "text": "Enter two space seperated numbers: 4 5\nEnter any operator (+, -, *, /): /\n"
        },
        {
          "name": "stdout",
          "output_type": "stream",
          "text": "the result is:  0.8\n"
        }
      ],
      "execution_count": 1
    }
  ]
}