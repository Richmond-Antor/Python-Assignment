{
  "metadata": {
    "kernelspec": {
      "name": "python",
      "display_name": "Python (Pyodide)",
      "language": "python"
    },
    "language_info": {
      "codemirror_mode": {
        "name": "python",
        "version": 3
      },
      "file_extension": ".py",
      "mimetype": "text/x-python",
      "name": "python",
      "nbconvert_exporter": "python",
      "pygments_lexer": "ipython3",
      "version": "3.8"
    }
  },
  "nbformat_minor": 5,
  "nbformat": 4,
  "cells": [
    {
      "id": "f3a29360-b6b8-420d-8f92-7bdf1511883b",
      "cell_type": "markdown",
      "source": "# Problem: 03\n\nWrite a program using a for loop that calculates the sum of even numbers between 1 and 100.",
      "metadata": {}
    },
    {
      "id": "6b7b01c1-434e-48e7-8c8b-72dd31c2c294",
      "cell_type": "code",
      "source": "x=1\nsum=0\nfor i in range(0,101,+2):\n sum += i\nprint(sum)",
      "metadata": {
        "trusted": true
      },
      "outputs": [
        {
          "name": "stdout",
          "output_type": "stream",
          "text": "2550\n"
        }
      ],
      "execution_count": 2
    }
  ]
}